{
 "cells": [
  {
   "cell_type": "code",
   "execution_count": 1,
   "id": "9453c464-b934-4b27-9edb-9ad33a8ea577",
   "metadata": {},
   "outputs": [
    {
     "name": "stdout",
     "output_type": "stream",
     "text": [
      "Hello! I am your chatbot. Type 'bye' to quit.\n"
     ]
    },
    {
     "name": "stdin",
     "output_type": "stream",
     "text": [
      "You:  hi\n"
     ]
    },
    {
     "name": "stdout",
     "output_type": "stream",
     "text": [
      "Chatbot: Hello! How can I assist you today?\n"
     ]
    },
    {
     "name": "stdin",
     "output_type": "stream",
     "text": [
      "You:  hello\n"
     ]
    },
    {
     "name": "stdout",
     "output_type": "stream",
     "text": [
      "Chatbot: Hello! How can I assist you today?\n"
     ]
    },
    {
     "name": "stdin",
     "output_type": "stream",
     "text": [
      "You:  help\n"
     ]
    },
    {
     "name": "stdout",
     "output_type": "stream",
     "text": [
      "Chatbot: How can I assist you? You can ask me about greetings, my name, weather, etc.\n"
     ]
    },
    {
     "name": "stdin",
     "output_type": "stream",
     "text": [
      "You:  name\n"
     ]
    },
    {
     "name": "stdout",
     "output_type": "stream",
     "text": [
      "Chatbot: I'm a simple chatbot. You can call me Bot!\n"
     ]
    },
    {
     "name": "stdin",
     "output_type": "stream",
     "text": [
      "You:  bye\n"
     ]
    },
    {
     "name": "stdout",
     "output_type": "stream",
     "text": [
      "Chatbot: Goodbye! Have a great day!\n"
     ]
    }
   ],
   "source": [
    "import re\n",
    "def pattern_matching_chatbot():\n",
    "    responses = {\n",
    "        r'hello|hi|hey': \"Chatbot: Hello! How can I assist you today?\",\n",
    "        r'how are you': \"Chatbot: I'm just a bot, but I'm doing well, thank you!\",\n",
    "        r'name': \"Chatbot: I'm a simple chatbot. You can call me Bot!\",\n",
    "        r'weather': \"Chatbot: I can't check the weather, but I recommend checking your local weather app.\",\n",
    "        r'help': \"Chatbot: How can I assist you? You can ask me about greetings, my name, weather, etc.\",\n",
    "    }\n",
    "    print(\"Hello! I am your chatbot. Type 'bye' to quit.\")\n",
    "    while True:\n",
    "        user_input = input(\"You: \").lower()  \n",
    "        if user_input == \"bye\":\n",
    "            print(\"Chatbot: Goodbye! Have a great day!\")\n",
    "            break\n",
    "            \n",
    "        matched = False\n",
    "        for pattern, response in responses.items():\n",
    "            if re.search(pattern, user_input):  \n",
    "                print(response)\n",
    "                matched = True\n",
    "                break\n",
    "        \n",
    "        if not matched:  \n",
    "            print(\"Chatbot: I didn't understand that. Could you ask something else?\")\n",
    "            \n",
    "pattern_matching_chatbot()"
   ]
  },
  {
   "cell_type": "code",
   "execution_count": null,
   "id": "16a4d0ae-422d-4361-80d4-140cc5d9aac0",
   "metadata": {},
   "outputs": [],
   "source": []
  }
 ],
 "metadata": {
  "kernelspec": {
   "display_name": "Python 3 (ipykernel)",
   "language": "python",
   "name": "python3"
  },
  "language_info": {
   "codemirror_mode": {
    "name": "ipython",
    "version": 3
   },
   "file_extension": ".py",
   "mimetype": "text/x-python",
   "name": "python",
   "nbconvert_exporter": "python",
   "pygments_lexer": "ipython3",
   "version": "3.12.4"
  }
 },
 "nbformat": 4,
 "nbformat_minor": 5
}
