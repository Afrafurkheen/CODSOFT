{
 "cells": [
  {
   "cell_type": "code",
   "execution_count": 6,
   "id": "bf8cd9da-bc01-4a2c-a247-e98b610a5589",
   "metadata": {},
   "outputs": [
    {
     "name": "stdout",
     "output_type": "stream",
     "text": [
      "Hello! I am your chatbot. Type 'bye' to quit.\n"
     ]
    },
    {
     "name": "stdin",
     "output_type": "stream",
     "text": [
      "You:  hey\n"
     ]
    },
    {
     "name": "stdout",
     "output_type": "stream",
     "text": [
      "Chatbot: Hello! How can I assist you today?\n"
     ]
    },
    {
     "name": "stdin",
     "output_type": "stream",
     "text": [
      "You:  help\n"
     ]
    },
    {
     "name": "stdout",
     "output_type": "stream",
     "text": [
      "Chatbot: How can I assist you? You can ask me about greetings, my name, weather, etc.\n"
     ]
    },
    {
     "name": "stdin",
     "output_type": "stream",
     "text": [
      "You:  name\n"
     ]
    },
    {
     "name": "stdout",
     "output_type": "stream",
     "text": [
      "Chatbot: I'm a simple chatbot. You can call me Bot!\n"
     ]
    },
    {
     "name": "stdin",
     "output_type": "stream",
     "text": [
      "You:  weather\n"
     ]
    },
    {
     "name": "stdout",
     "output_type": "stream",
     "text": [
      "Chatbot: I can't check the weather, but I recommend checking your local weather app.\n"
     ]
    },
    {
     "name": "stdin",
     "output_type": "stream",
     "text": [
      "You:  ,\n"
     ]
    },
    {
     "name": "stdout",
     "output_type": "stream",
     "text": [
      "Chatbot: I didn't understand that. Could you ask something else?\n"
     ]
    },
    {
     "name": "stdin",
     "output_type": "stream",
     "text": [
      "You:  bye\n"
     ]
    },
    {
     "name": "stdout",
     "output_type": "stream",
     "text": [
      "Chatbot: Goodbye! Have a great day!\n"
     ]
    }
   ],
   "source": [
    "import re\n",
    "\n",
    "def pattern_matching_chatbot():\n",
    "    responses = {\n",
    "        r'hello|hi|hey': \"Chatbot: Hello! How can I assist you today?\",\n",
    "        r'how are you': \"Chatbot: I'm just a bot, but I'm doing well, thank you!\",\n",
    "        r'name': \"Chatbot: I'm a simple chatbot. You can call me Bot!\",\n",
    "        r'weather': \"Chatbot: I can't check the weather, but I recommend checking your local weather app.\",\n",
    "        r'help': \"Chatbot: How can I assist you? You can ask me about greetings, my name, weather, etc.\",\n",
    "    }\n",
    "    \n",
    "    print(\"Hello! I am your chatbot. Type 'bye' to quit.\")\n",
    "    \n",
    "    while True:\n",
    "        user_input = input(\"You: \").lower() \n",
    "        if user_input == \"bye\":\n",
    "            print(\"Chatbot: Goodbye! Have a great day!\")\n",
    "            break\n",
    "        \n",
    "        matched = False\n",
    "        for pattern, response in responses.items():\n",
    "            if re.search(pattern, user_input): \n",
    "                print(response)\n",
    "                matched = True\n",
    "                break\n",
    "        \n",
    "        if not matched: \n",
    "            print(\"Chatbot: I didn't understand that. Could you ask something else?\")\n",
    "\n",
    "pattern_matching_chatbot()\n"
   ]
  },
  {
   "cell_type": "code",
   "execution_count": null,
   "id": "f215a1d2-667c-4f1b-801f-8cffc3dd3343",
   "metadata": {},
   "outputs": [],
   "source": []
  }
 ],
 "metadata": {
  "kernelspec": {
   "display_name": "Python 3 (ipykernel)",
   "language": "python",
   "name": "python3"
  },
  "language_info": {
   "codemirror_mode": {
    "name": "ipython",
    "version": 3
   },
   "file_extension": ".py",
   "mimetype": "text/x-python",
   "name": "python",
   "nbconvert_exporter": "python",
   "pygments_lexer": "ipython3",
   "version": "3.12.4"
  }
 },
 "nbformat": 4,
 "nbformat_minor": 5
}
