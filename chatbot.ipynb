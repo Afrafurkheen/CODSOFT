{
 "cells": [
  {
   "cell_type": "code",
   "execution_count": 2,
   "id": "443ce1c5-83be-4113-84a6-eca4e3547f00",
   "metadata": {},
   "outputs": [
    {
     "name": "stdout",
     "output_type": "stream",
     "text": [
      "Start the chat \n",
      "Type bye to exit\n"
     ]
    },
    {
     "name": "stdin",
     "output_type": "stream",
     "text": [
      "You:  hello\n"
     ]
    },
    {
     "name": "stdout",
     "output_type": "stream",
     "text": [
      "Chatbot: Hello! How can I assist you today?\n"
     ]
    },
    {
     "name": "stdin",
     "output_type": "stream",
     "text": [
      "You:  help\n"
     ]
    },
    {
     "name": "stdout",
     "output_type": "stream",
     "text": [
      "Chatbot: I'm here to help. What do you need assistance with?\n"
     ]
    },
    {
     "name": "stdin",
     "output_type": "stream",
     "text": [
      "You:  ,\n"
     ]
    },
    {
     "name": "stdout",
     "output_type": "stream",
     "text": [
      "Chatbot: I'm not sure I understand. Can you rephrase that?\n"
     ]
    },
    {
     "name": "stdin",
     "output_type": "stream",
     "text": [
      "You:  bye\n"
     ]
    },
    {
     "name": "stdout",
     "output_type": "stream",
     "text": [
      "Chatbot: Goodbye!\n"
     ]
    }
   ],
   "source": [
    "import re\n",
    "\n",
    "def chatbot_response(user_input):\n",
    "    responses = {\n",
    "        r'hi|hello|hey': \"Hello! How can I assist you today?\",\n",
    "        r'how are you': \"I'm just a bot, but I'm doing great! How about you?\",\n",
    "        r'what is your name': \"I'm a chatbot created to assist you!\",\n",
    "        r'bye|goodbye': \"Goodbye! Have a great day!\",\n",
    "        r'help|assist': \"I'm here to help. What do you need assistance with?\",\n",
    "        r'what is (.*)\\??': \"I'm not sure, but you can try searching online for more information about \\1.\",\n",
    "        r'tell me about (.*)': \"I don't have detailed information on \\1, but I can try to assist you with general queries!\",\n",
    "        r'(.*)': \"I'm not sure I understand. Can you rephrase that?\"\n",
    "    }\n",
    "    \n",
    "    for pattern, response in responses.items():\n",
    "        match = re.search(pattern, user_input, re.IGNORECASE)\n",
    "        if match:\n",
    "            return response.replace(\"\\\\1\", match.group(1)) if match.groups() else response\n",
    "    \n",
    "    return \"I'm not sure how to respond to that.\"\n",
    "\n",
    "if __name__ == \"__main__\":\n",
    "    print(\"Start the chat \\nType bye to exit\")\n",
    "    while True:\n",
    "        user_input = input(\"You: \")\n",
    "        if user_input.lower() == 'bye':\n",
    "            print(\"Chatbot: Goodbye!\")\n",
    "            break\n",
    "        print(\"Chatbot:\", chatbot_response(user_input))\n"
   ]
  },
  {
   "cell_type": "code",
   "execution_count": null,
   "id": "eb7577b2-912b-48c3-85a5-6f016ec96bad",
   "metadata": {},
   "outputs": [],
   "source": []
  }
 ],
 "metadata": {
  "kernelspec": {
   "display_name": "Python 3 (ipykernel)",
   "language": "python",
   "name": "python3"
  },
  "language_info": {
   "codemirror_mode": {
    "name": "ipython",
    "version": 3
   },
   "file_extension": ".py",
   "mimetype": "text/x-python",
   "name": "python",
   "nbconvert_exporter": "python",
   "pygments_lexer": "ipython3",
   "version": "3.12.4"
  }
 },
 "nbformat": 4,
 "nbformat_minor": 5
}
