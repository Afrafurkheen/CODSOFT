{
 "cells": [
  {
   "cell_type": "code",
   "execution_count": null,
   "id": "340bd854-34dd-4b00-a6d9-f653ab9f192f",
   "metadata": {},
   "outputs": [],
   "source": []
  }
 ],
 "metadata": {
  "kernelspec": {
   "display_name": "",
   "name": ""
  },
  "language_info": {
   "name": ""
  }
 },
 "nbformat": 4,
 "nbformat_minor": 5
}
