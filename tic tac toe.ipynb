{
 "cells": [
  {
   "cell_type": "code",
   "execution_count": 1,
   "id": "5c65aade-476d-4565-8742-b379ecb9d4ba",
   "metadata": {},
   "outputs": [
    {
     "name": "stdout",
     "output_type": "stream",
     "text": [
      "Tic-Tac-Toe Game!\n",
      "You are 'O' and AI is 'X'.\n",
      " | | \n",
      "-----\n",
      " | | \n",
      "-----\n",
      " | | \n",
      "-----\n"
     ]
    },
    {
     "name": "stdin",
     "output_type": "stream",
     "text": [
      "Enter your move (row col):  0 0\n"
     ]
    },
    {
     "name": "stdout",
     "output_type": "stream",
     "text": [
      "AI's move:\n",
      "O| | \n",
      "-----\n",
      " |X| \n",
      "-----\n",
      " | | \n",
      "-----\n"
     ]
    },
    {
     "name": "stdin",
     "output_type": "stream",
     "text": [
      "Enter your move (row col):  0 1\n"
     ]
    },
    {
     "name": "stdout",
     "output_type": "stream",
     "text": [
      "AI's move:\n",
      "O|O|X\n",
      "-----\n",
      " |X| \n",
      "-----\n",
      " | | \n",
      "-----\n"
     ]
    },
    {
     "name": "stdin",
     "output_type": "stream",
     "text": [
      "Enter your move (row col):  2 1\n"
     ]
    },
    {
     "name": "stdout",
     "output_type": "stream",
     "text": [
      "AI's move:\n",
      "O|O|X\n",
      "-----\n",
      "X|X| \n",
      "-----\n",
      " |O| \n",
      "-----\n"
     ]
    },
    {
     "name": "stdin",
     "output_type": "stream",
     "text": [
      "Enter your move (row col):  1 2\n"
     ]
    },
    {
     "name": "stdout",
     "output_type": "stream",
     "text": [
      "AI's move:\n",
      "O|O|X\n",
      "-----\n",
      "X|X|O\n",
      "-----\n",
      "X|O| \n",
      "-----\n",
      "AI wins!\n"
     ]
    }
   ],
   "source": [
    "import math\n",
    "\n",
    "board = [[' ' for _ in range(3)] for _ in range(3)]\n",
    "\n",
    "def check_winner(board, player):\n",
    "    for i in range(3):\n",
    "        if all([board[i][j] == player for j in range(3)]) or all([board[j][i] == player for j in range(3)]):\n",
    "            return True\n",
    "    if board[0][0] == player and board[1][1] == player and board[2][2] == player:\n",
    "        return True\n",
    "    if board[0][2] == player and board[1][1] == player and board[2][0] == player:\n",
    "        return True\n",
    "    return False\n",
    "\n",
    "def is_board_full(board):\n",
    "    return all([board[i][j] != ' ' for i in range(3) for j in range(3)])\n",
    "\n",
    "def evaluate(board):\n",
    "    if check_winner(board, 'X'):\n",
    "        return 10\n",
    "    elif check_winner(board, 'O'):\n",
    "        return -10\n",
    "    return 0\n",
    "\n",
    "def minimax(board, depth, is_maximizing):\n",
    "    score = evaluate(board)\n",
    "\n",
    "    if score == 10:\n",
    "        return score\n",
    "\n",
    "    if score == -10:\n",
    "        return score\n",
    "  \n",
    "    if is_board_full(board):\n",
    "        return 0\n",
    "    \n",
    "    if is_maximizing:\n",
    "        best = -math.inf\n",
    "        for i in range(3):\n",
    "            for j in range(3):\n",
    "                if board[i][j] == ' ':\n",
    "                    board[i][j] = 'X'\n",
    "                    best = max(best, minimax(board, depth + 1, False))\n",
    "                    board[i][j] = ' '\n",
    "        return best\n",
    "    else:\n",
    "        best = math.inf\n",
    "        for i in range(3):\n",
    "            for j in range(3):\n",
    "                if board[i][j] == ' ':\n",
    "                    board[i][j] = 'O'\n",
    "                    best = min(best, minimax(board, depth + 1, True))\n",
    "                    board[i][j] = ' '\n",
    "        return best\n",
    "\n",
    "def find_best_move(board):\n",
    "    best_val = -math.inf\n",
    "    best_move = (-1, -1)\n",
    "    \n",
    "    for i in range(3):\n",
    "        for j in range(3):\n",
    "            if board[i][j] == ' ':\n",
    "                board[i][j] = 'X'\n",
    "                move_val = minimax(board, 0, False)\n",
    "                board[i][j] = ' '\n",
    "                \n",
    "                if move_val > best_val:\n",
    "                    best_move = (i, j)\n",
    "                    best_val = move_val\n",
    "    return best_move\n",
    "\n",
    "def print_board(board):\n",
    "    for row in board:\n",
    "        print(\"|\".join(row))\n",
    "        print(\"-\" * 5)\n",
    "\n",
    "def play_game():\n",
    "    print(\"Tic-Tac-Toe Game!\")\n",
    "    print(\"You are 'O' and AI is 'X'.\")\n",
    "    \n",
    "    while True:\n",
    "        print_board(board)\n",
    "        row, col = map(int, input(\"Enter your move (row col): \").split())\n",
    "        if board[row][col] != ' ':\n",
    "            print(\"Invalid move! Try again.\")\n",
    "            continue\n",
    "        board[row][col] = 'O'\n",
    "\n",
    "        if check_winner(board, 'O'):\n",
    "            print_board(board)\n",
    "            print(\"You win!\")\n",
    "            break\n",
    "\n",
    "        if is_board_full(board):\n",
    "            print_board(board)\n",
    "            print(\"It's a draw!\")\n",
    "            break\n",
    " \n",
    "        print(\"AI's move:\")\n",
    "        best_move = find_best_move(board)\n",
    "        board[best_move[0]][best_move[1]] = 'X'\n",
    "        \n",
    "        \n",
    "        if check_winner(board, 'X'):\n",
    "            print_board(board)\n",
    "            print(\"AI wins!\")\n",
    "            break\n",
    "        \n",
    "        if is_board_full(board):\n",
    "            print_board(board)\n",
    "            print(\"It's a draw!\")\n",
    "            break\n",
    "\n",
    "play_game()\n"
   ]
  },
  {
   "cell_type": "code",
   "execution_count": null,
   "id": "d0c7fa75-7aca-4ed8-9d69-bf6bb18856e6",
   "metadata": {},
   "outputs": [],
   "source": []
  }
 ],
 "metadata": {
  "kernelspec": {
   "display_name": "Python 3 (ipykernel)",
   "language": "python",
   "name": "python3"
  },
  "language_info": {
   "codemirror_mode": {
    "name": "ipython",
    "version": 3
   },
   "file_extension": ".py",
   "mimetype": "text/x-python",
   "name": "python",
   "nbconvert_exporter": "python",
   "pygments_lexer": "ipython3",
   "version": "3.12.4"
  }
 },
 "nbformat": 4,
 "nbformat_minor": 5
}
